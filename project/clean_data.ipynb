{
 "metadata": {
  "language_info": {
   "codemirror_mode": {
    "name": "ipython",
    "version": 3
   },
   "file_extension": ".py",
   "mimetype": "text/x-python",
   "name": "python",
   "nbconvert_exporter": "python",
   "pygments_lexer": "ipython3",
   "version": "3.7.9-final"
  },
  "orig_nbformat": 2,
  "kernelspec": {
   "name": "python3",
   "display_name": "Python 3"
  }
 },
 "nbformat": 4,
 "nbformat_minor": 2,
 "cells": [
  {
   "cell_type": "code",
   "execution_count": 1,
   "metadata": {},
   "outputs": [],
   "source": [
    "import pandas as pd \n",
    "import numpy as np \n",
    "\n",
    "covid = pd.read_csv('covid.csv')"
   ]
  },
  {
   "source": [
    "## Data Exploration"
   ],
   "cell_type": "markdown",
   "metadata": {}
  },
  {
   "cell_type": "code",
   "execution_count": 2,
   "metadata": {},
   "outputs": [
    {
     "output_type": "execute_result",
     "data": {
      "text/plain": [
       "       id  sex  patient_type  entry_date date_symptoms   date_died  intubed  \\\n",
       "0  16169f    2             1  04-05-2020    02-05-2020  9999-99-99       97   \n",
       "1  1009bf    2             1  19-03-2020    17-03-2020  9999-99-99       97   \n",
       "2  167386    1             2  06-04-2020    01-04-2020  9999-99-99        2   \n",
       "3  0b5948    2             2  17-04-2020    10-04-2020  9999-99-99        2   \n",
       "4  0d01b5    1             2  13-04-2020    13-04-2020  22-04-2020        2   \n",
       "\n",
       "   pneumonia  age  pregnancy  ...  inmsupr  hypertension  other_disease  \\\n",
       "0          2   27         97  ...        2             2              2   \n",
       "1          2   24         97  ...        2             2              2   \n",
       "2          2   54          2  ...        2             2              2   \n",
       "3          1   30         97  ...        2             2              2   \n",
       "4          2   60          2  ...        2             1              2   \n",
       "\n",
       "   cardiovascular  obesity  renal_chronic  tobacco  contact_other_covid  \\\n",
       "0               2        2              2        2                    2   \n",
       "1               2        2              2        2                   99   \n",
       "2               2        1              2        2                   99   \n",
       "3               2        2              2        2                   99   \n",
       "4               1        2              2        2                   99   \n",
       "\n",
       "   covid_res  icu  \n",
       "0          1   97  \n",
       "1          1   97  \n",
       "2          1    2  \n",
       "3          1    2  \n",
       "4          1    2  \n",
       "\n",
       "[5 rows x 23 columns]"
      ],
      "text/html": "<div>\n<style scoped>\n    .dataframe tbody tr th:only-of-type {\n        vertical-align: middle;\n    }\n\n    .dataframe tbody tr th {\n        vertical-align: top;\n    }\n\n    .dataframe thead th {\n        text-align: right;\n    }\n</style>\n<table border=\"1\" class=\"dataframe\">\n  <thead>\n    <tr style=\"text-align: right;\">\n      <th></th>\n      <th>id</th>\n      <th>sex</th>\n      <th>patient_type</th>\n      <th>entry_date</th>\n      <th>date_symptoms</th>\n      <th>date_died</th>\n      <th>intubed</th>\n      <th>pneumonia</th>\n      <th>age</th>\n      <th>pregnancy</th>\n      <th>...</th>\n      <th>inmsupr</th>\n      <th>hypertension</th>\n      <th>other_disease</th>\n      <th>cardiovascular</th>\n      <th>obesity</th>\n      <th>renal_chronic</th>\n      <th>tobacco</th>\n      <th>contact_other_covid</th>\n      <th>covid_res</th>\n      <th>icu</th>\n    </tr>\n  </thead>\n  <tbody>\n    <tr>\n      <th>0</th>\n      <td>16169f</td>\n      <td>2</td>\n      <td>1</td>\n      <td>04-05-2020</td>\n      <td>02-05-2020</td>\n      <td>9999-99-99</td>\n      <td>97</td>\n      <td>2</td>\n      <td>27</td>\n      <td>97</td>\n      <td>...</td>\n      <td>2</td>\n      <td>2</td>\n      <td>2</td>\n      <td>2</td>\n      <td>2</td>\n      <td>2</td>\n      <td>2</td>\n      <td>2</td>\n      <td>1</td>\n      <td>97</td>\n    </tr>\n    <tr>\n      <th>1</th>\n      <td>1009bf</td>\n      <td>2</td>\n      <td>1</td>\n      <td>19-03-2020</td>\n      <td>17-03-2020</td>\n      <td>9999-99-99</td>\n      <td>97</td>\n      <td>2</td>\n      <td>24</td>\n      <td>97</td>\n      <td>...</td>\n      <td>2</td>\n      <td>2</td>\n      <td>2</td>\n      <td>2</td>\n      <td>2</td>\n      <td>2</td>\n      <td>2</td>\n      <td>99</td>\n      <td>1</td>\n      <td>97</td>\n    </tr>\n    <tr>\n      <th>2</th>\n      <td>167386</td>\n      <td>1</td>\n      <td>2</td>\n      <td>06-04-2020</td>\n      <td>01-04-2020</td>\n      <td>9999-99-99</td>\n      <td>2</td>\n      <td>2</td>\n      <td>54</td>\n      <td>2</td>\n      <td>...</td>\n      <td>2</td>\n      <td>2</td>\n      <td>2</td>\n      <td>2</td>\n      <td>1</td>\n      <td>2</td>\n      <td>2</td>\n      <td>99</td>\n      <td>1</td>\n      <td>2</td>\n    </tr>\n    <tr>\n      <th>3</th>\n      <td>0b5948</td>\n      <td>2</td>\n      <td>2</td>\n      <td>17-04-2020</td>\n      <td>10-04-2020</td>\n      <td>9999-99-99</td>\n      <td>2</td>\n      <td>1</td>\n      <td>30</td>\n      <td>97</td>\n      <td>...</td>\n      <td>2</td>\n      <td>2</td>\n      <td>2</td>\n      <td>2</td>\n      <td>2</td>\n      <td>2</td>\n      <td>2</td>\n      <td>99</td>\n      <td>1</td>\n      <td>2</td>\n    </tr>\n    <tr>\n      <th>4</th>\n      <td>0d01b5</td>\n      <td>1</td>\n      <td>2</td>\n      <td>13-04-2020</td>\n      <td>13-04-2020</td>\n      <td>22-04-2020</td>\n      <td>2</td>\n      <td>2</td>\n      <td>60</td>\n      <td>2</td>\n      <td>...</td>\n      <td>2</td>\n      <td>1</td>\n      <td>2</td>\n      <td>1</td>\n      <td>2</td>\n      <td>2</td>\n      <td>2</td>\n      <td>99</td>\n      <td>1</td>\n      <td>2</td>\n    </tr>\n  </tbody>\n</table>\n<p>5 rows × 23 columns</p>\n</div>"
     },
     "metadata": {},
     "execution_count": 2
    }
   ],
   "source": [
    "covid.head()"
   ]
  },
  {
   "cell_type": "code",
   "execution_count": 3,
   "metadata": {},
   "outputs": [
    {
     "output_type": "execute_result",
     "data": {
      "text/plain": [
       "(566602, 23)"
      ]
     },
     "metadata": {},
     "execution_count": 3
    }
   ],
   "source": [
    "covid.shape"
   ]
  },
  {
   "cell_type": "code",
   "execution_count": 4,
   "metadata": {},
   "outputs": [
    {
     "output_type": "stream",
     "name": "stdout",
     "text": [
      "<class 'pandas.core.frame.DataFrame'>\nRangeIndex: 566602 entries, 0 to 566601\nData columns (total 23 columns):\n #   Column               Non-Null Count   Dtype \n---  ------               --------------   ----- \n 0   id                   566602 non-null  object\n 1   sex                  566602 non-null  int64 \n 2   patient_type         566602 non-null  int64 \n 3   entry_date           566602 non-null  object\n 4   date_symptoms        566602 non-null  object\n 5   date_died            566602 non-null  object\n 6   intubed              566602 non-null  int64 \n 7   pneumonia            566602 non-null  int64 \n 8   age                  566602 non-null  int64 \n 9   pregnancy            566602 non-null  int64 \n 10  diabetes             566602 non-null  int64 \n 11  copd                 566602 non-null  int64 \n 12  asthma               566602 non-null  int64 \n 13  inmsupr              566602 non-null  int64 \n 14  hypertension         566602 non-null  int64 \n 15  other_disease        566602 non-null  int64 \n 16  cardiovascular       566602 non-null  int64 \n 17  obesity              566602 non-null  int64 \n 18  renal_chronic        566602 non-null  int64 \n 19  tobacco              566602 non-null  int64 \n 20  contact_other_covid  566602 non-null  int64 \n 21  covid_res            566602 non-null  int64 \n 22  icu                  566602 non-null  int64 \ndtypes: int64(19), object(4)\nmemory usage: 99.4+ MB\n"
     ]
    }
   ],
   "source": [
    "covid.info()"
   ]
  },
  {
   "source": [
    "## Data Cleanup: Deleting Irrelevent Columns"
   ],
   "cell_type": "markdown",
   "metadata": {}
  },
  {
   "cell_type": "code",
   "execution_count": 5,
   "metadata": {},
   "outputs": [],
   "source": [
    "covid.drop(columns = ['id', 'entry_date', 'date_symptoms', 'date_died'], inplace=True)"
   ]
  },
  {
   "cell_type": "code",
   "execution_count": 6,
   "metadata": {},
   "outputs": [
    {
     "output_type": "execute_result",
     "data": {
      "text/plain": [
       "   sex  patient_type  intubed  pneumonia  age  pregnancy  diabetes  copd  \\\n",
       "0    2             1       97          2   27         97         2     2   \n",
       "1    2             1       97          2   24         97         2     2   \n",
       "2    1             2        2          2   54          2         2     2   \n",
       "3    2             2        2          1   30         97         2     2   \n",
       "4    1             2        2          2   60          2         1     2   \n",
       "\n",
       "   asthma  inmsupr  hypertension  other_disease  cardiovascular  obesity  \\\n",
       "0       2        2             2              2               2        2   \n",
       "1       2        2             2              2               2        2   \n",
       "2       2        2             2              2               2        1   \n",
       "3       2        2             2              2               2        2   \n",
       "4       2        2             1              2               1        2   \n",
       "\n",
       "   renal_chronic  tobacco  contact_other_covid  covid_res  icu  \n",
       "0              2        2                    2          1   97  \n",
       "1              2        2                   99          1   97  \n",
       "2              2        2                   99          1    2  \n",
       "3              2        2                   99          1    2  \n",
       "4              2        2                   99          1    2  "
      ],
      "text/html": "<div>\n<style scoped>\n    .dataframe tbody tr th:only-of-type {\n        vertical-align: middle;\n    }\n\n    .dataframe tbody tr th {\n        vertical-align: top;\n    }\n\n    .dataframe thead th {\n        text-align: right;\n    }\n</style>\n<table border=\"1\" class=\"dataframe\">\n  <thead>\n    <tr style=\"text-align: right;\">\n      <th></th>\n      <th>sex</th>\n      <th>patient_type</th>\n      <th>intubed</th>\n      <th>pneumonia</th>\n      <th>age</th>\n      <th>pregnancy</th>\n      <th>diabetes</th>\n      <th>copd</th>\n      <th>asthma</th>\n      <th>inmsupr</th>\n      <th>hypertension</th>\n      <th>other_disease</th>\n      <th>cardiovascular</th>\n      <th>obesity</th>\n      <th>renal_chronic</th>\n      <th>tobacco</th>\n      <th>contact_other_covid</th>\n      <th>covid_res</th>\n      <th>icu</th>\n    </tr>\n  </thead>\n  <tbody>\n    <tr>\n      <th>0</th>\n      <td>2</td>\n      <td>1</td>\n      <td>97</td>\n      <td>2</td>\n      <td>27</td>\n      <td>97</td>\n      <td>2</td>\n      <td>2</td>\n      <td>2</td>\n      <td>2</td>\n      <td>2</td>\n      <td>2</td>\n      <td>2</td>\n      <td>2</td>\n      <td>2</td>\n      <td>2</td>\n      <td>2</td>\n      <td>1</td>\n      <td>97</td>\n    </tr>\n    <tr>\n      <th>1</th>\n      <td>2</td>\n      <td>1</td>\n      <td>97</td>\n      <td>2</td>\n      <td>24</td>\n      <td>97</td>\n      <td>2</td>\n      <td>2</td>\n      <td>2</td>\n      <td>2</td>\n      <td>2</td>\n      <td>2</td>\n      <td>2</td>\n      <td>2</td>\n      <td>2</td>\n      <td>2</td>\n      <td>99</td>\n      <td>1</td>\n      <td>97</td>\n    </tr>\n    <tr>\n      <th>2</th>\n      <td>1</td>\n      <td>2</td>\n      <td>2</td>\n      <td>2</td>\n      <td>54</td>\n      <td>2</td>\n      <td>2</td>\n      <td>2</td>\n      <td>2</td>\n      <td>2</td>\n      <td>2</td>\n      <td>2</td>\n      <td>2</td>\n      <td>1</td>\n      <td>2</td>\n      <td>2</td>\n      <td>99</td>\n      <td>1</td>\n      <td>2</td>\n    </tr>\n    <tr>\n      <th>3</th>\n      <td>2</td>\n      <td>2</td>\n      <td>2</td>\n      <td>1</td>\n      <td>30</td>\n      <td>97</td>\n      <td>2</td>\n      <td>2</td>\n      <td>2</td>\n      <td>2</td>\n      <td>2</td>\n      <td>2</td>\n      <td>2</td>\n      <td>2</td>\n      <td>2</td>\n      <td>2</td>\n      <td>99</td>\n      <td>1</td>\n      <td>2</td>\n    </tr>\n    <tr>\n      <th>4</th>\n      <td>1</td>\n      <td>2</td>\n      <td>2</td>\n      <td>2</td>\n      <td>60</td>\n      <td>2</td>\n      <td>1</td>\n      <td>2</td>\n      <td>2</td>\n      <td>2</td>\n      <td>1</td>\n      <td>2</td>\n      <td>1</td>\n      <td>2</td>\n      <td>2</td>\n      <td>2</td>\n      <td>99</td>\n      <td>1</td>\n      <td>2</td>\n    </tr>\n  </tbody>\n</table>\n</div>"
     },
     "metadata": {},
     "execution_count": 6
    }
   ],
   "source": [
    "covid.head()"
   ]
  },
  {
   "source": [
    "## Data Cleanup: Dealing with \"missing\" data"
   ],
   "cell_type": "markdown",
   "metadata": {}
  },
  {
   "source": [
    "This dataset is super sloppy, values of 97, 98, or 99 indicates missing data."
   ],
   "cell_type": "markdown",
   "metadata": {}
  },
  {
   "cell_type": "code",
   "execution_count": 7,
   "metadata": {},
   "outputs": [],
   "source": [
    "# pneumonia\n",
    "covid = covid.loc[(covid.pneumonia == 1) | (covid.pneumonia == 2)]\n",
    "# diabetes\n",
    "covid = covid.loc[(covid.diabetes == 1) | (covid.diabetes == 2)]\n",
    "# copd\n",
    "covid = covid.loc[(covid.copd == 1) | (covid.copd == 2)]\n",
    "# asthma\n",
    "covid = covid.loc[(covid.asthma == 1) | (covid.asthma == 2)]\n",
    "# inmsupr\n",
    "covid = covid.loc[(covid.inmsupr == 1) | (covid.inmsupr == 2)]\n",
    "# hypertension\n",
    "covid = covid.loc[(covid.hypertension == 1) | (covid.hypertension == 2)]\n",
    "# other_disease\n",
    "covid = covid.loc[(covid.other_disease == 1) | (covid.other_disease == 2)]\n",
    "# cardiovascular\n",
    "covid = covid.loc[(covid.cardiovascular == 1) | (covid.cardiovascular == 2)]\n",
    "# obesity\n",
    "covid = covid.loc[(covid.obesity == 1) | (covid.obesity == 2)]\n",
    "# renal_chronic\n",
    "covid = covid.loc[(covid.renal_chronic == 1) | (covid.renal_chronic == 2)]\n",
    "# tobacco\n",
    "covid = covid.loc[(covid.tobacco == 1) | (covid.tobacco == 2)]\n",
    "# contact_other_covid\n",
    "covid = covid.loc[(covid.contact_other_covid == 1) | (covid.contact_other_covid == 2)]\n",
    "# covid_res\n",
    "covid = covid.loc[(covid.covid_res == 1) | (covid.covid_res == 2)]"
   ]
  },
  {
   "cell_type": "code",
   "execution_count": 8,
   "metadata": {},
   "outputs": [],
   "source": [
    "# Get rid of all rows containing info other than 1 or 2 (except in the age column)\n",
    "# columns = []\n",
    "# col = covid.columns\n",
    "# for column in columns:\n",
    "#     col_list.append(column)\n",
    "\n",
    "# def fix_missing(covid, columns):\n",
    "#     for column in covid[columns]:\n",
    "#         if column != 'age':\n",
    "#             covid = covid.loc[(covid[column] == 1) | (covid[column] == 2)]\n",
    "#     return covid\n",
    "\n",
    "# fix_missing(covid, columns)"
   ]
  },
  {
   "cell_type": "code",
   "execution_count": 9,
   "metadata": {},
   "outputs": [
    {
     "output_type": "execute_result",
     "data": {
      "text/plain": [
       "    sex  patient_type  intubed  pneumonia  age  pregnancy  diabetes  copd  \\\n",
       "0     2             1       97          2   27         97         2     2   \n",
       "7     1             1       97          2   56          2         2     2   \n",
       "13    1             1       97          2   34          2         2     2   \n",
       "15    1             1       97          2   34          2         2     2   \n",
       "16    1             1       97          2   49          2         1     2   \n",
       "\n",
       "    asthma  inmsupr  hypertension  other_disease  cardiovascular  obesity  \\\n",
       "0        2        2             2              2               2        2   \n",
       "7        2        2             1              2               2        2   \n",
       "13       2        2             2              2               2        2   \n",
       "15       2        2             2              2               2        2   \n",
       "16       2        2             2              2               2        2   \n",
       "\n",
       "    renal_chronic  tobacco  contact_other_covid  covid_res  icu  \n",
       "0               2        2                    2          1   97  \n",
       "7               1        1                    1          1   97  \n",
       "13              2        2                    1          1   97  \n",
       "15              2        1                    2          1   97  \n",
       "16              2        2                    1          1   97  "
      ],
      "text/html": "<div>\n<style scoped>\n    .dataframe tbody tr th:only-of-type {\n        vertical-align: middle;\n    }\n\n    .dataframe tbody tr th {\n        vertical-align: top;\n    }\n\n    .dataframe thead th {\n        text-align: right;\n    }\n</style>\n<table border=\"1\" class=\"dataframe\">\n  <thead>\n    <tr style=\"text-align: right;\">\n      <th></th>\n      <th>sex</th>\n      <th>patient_type</th>\n      <th>intubed</th>\n      <th>pneumonia</th>\n      <th>age</th>\n      <th>pregnancy</th>\n      <th>diabetes</th>\n      <th>copd</th>\n      <th>asthma</th>\n      <th>inmsupr</th>\n      <th>hypertension</th>\n      <th>other_disease</th>\n      <th>cardiovascular</th>\n      <th>obesity</th>\n      <th>renal_chronic</th>\n      <th>tobacco</th>\n      <th>contact_other_covid</th>\n      <th>covid_res</th>\n      <th>icu</th>\n    </tr>\n  </thead>\n  <tbody>\n    <tr>\n      <th>0</th>\n      <td>2</td>\n      <td>1</td>\n      <td>97</td>\n      <td>2</td>\n      <td>27</td>\n      <td>97</td>\n      <td>2</td>\n      <td>2</td>\n      <td>2</td>\n      <td>2</td>\n      <td>2</td>\n      <td>2</td>\n      <td>2</td>\n      <td>2</td>\n      <td>2</td>\n      <td>2</td>\n      <td>2</td>\n      <td>1</td>\n      <td>97</td>\n    </tr>\n    <tr>\n      <th>7</th>\n      <td>1</td>\n      <td>1</td>\n      <td>97</td>\n      <td>2</td>\n      <td>56</td>\n      <td>2</td>\n      <td>2</td>\n      <td>2</td>\n      <td>2</td>\n      <td>2</td>\n      <td>1</td>\n      <td>2</td>\n      <td>2</td>\n      <td>2</td>\n      <td>1</td>\n      <td>1</td>\n      <td>1</td>\n      <td>1</td>\n      <td>97</td>\n    </tr>\n    <tr>\n      <th>13</th>\n      <td>1</td>\n      <td>1</td>\n      <td>97</td>\n      <td>2</td>\n      <td>34</td>\n      <td>2</td>\n      <td>2</td>\n      <td>2</td>\n      <td>2</td>\n      <td>2</td>\n      <td>2</td>\n      <td>2</td>\n      <td>2</td>\n      <td>2</td>\n      <td>2</td>\n      <td>2</td>\n      <td>1</td>\n      <td>1</td>\n      <td>97</td>\n    </tr>\n    <tr>\n      <th>15</th>\n      <td>1</td>\n      <td>1</td>\n      <td>97</td>\n      <td>2</td>\n      <td>34</td>\n      <td>2</td>\n      <td>2</td>\n      <td>2</td>\n      <td>2</td>\n      <td>2</td>\n      <td>2</td>\n      <td>2</td>\n      <td>2</td>\n      <td>2</td>\n      <td>2</td>\n      <td>1</td>\n      <td>2</td>\n      <td>1</td>\n      <td>97</td>\n    </tr>\n    <tr>\n      <th>16</th>\n      <td>1</td>\n      <td>1</td>\n      <td>97</td>\n      <td>2</td>\n      <td>49</td>\n      <td>2</td>\n      <td>1</td>\n      <td>2</td>\n      <td>2</td>\n      <td>2</td>\n      <td>2</td>\n      <td>2</td>\n      <td>2</td>\n      <td>2</td>\n      <td>2</td>\n      <td>2</td>\n      <td>1</td>\n      <td>1</td>\n      <td>97</td>\n    </tr>\n  </tbody>\n</table>\n</div>"
     },
     "metadata": {},
     "execution_count": 9
    }
   ],
   "source": [
    "covid.head()"
   ]
  },
  {
   "cell_type": "code",
   "execution_count": 10,
   "metadata": {},
   "outputs": [
    {
     "output_type": "stream",
     "name": "stdout",
     "text": [
      "97    174281\n2     166018\n1       2396\n98      1029\nName: pregnancy, dtype: int64\n"
     ]
    },
    {
     "output_type": "execute_result",
     "data": {
      "text/plain": [
       "2    174281\n",
       "1    169443\n",
       "Name: sex, dtype: int64"
      ]
     },
     "metadata": {},
     "execution_count": 10
    }
   ],
   "source": [
    "print(covid.pregnancy.value_counts())\n",
    "\n",
    "covid.sex.value_counts()"
   ]
  },
  {
   "source": [
    "In this case, 97 (174281) are all males. So rather than dropping every value that is 97, I changed it to 2."
   ],
   "cell_type": "markdown",
   "metadata": {}
  },
  {
   "cell_type": "code",
   "execution_count": 11,
   "metadata": {},
   "outputs": [
    {
     "output_type": "execute_result",
     "data": {
      "text/plain": [
       "2    340299\n",
       "1      2396\n",
       "Name: pregnancy, dtype: int64"
      ]
     },
     "metadata": {},
     "execution_count": 11
    }
   ],
   "source": [
    "covid = covid.loc[(covid.pregnancy == 1) | (covid.pregnancy == 2) | (covid.pregnancy == 97)]\n",
    "\n",
    "covid.pregnancy = covid.pregnancy.apply(lambda x: x if x == 1 else 2)\n",
    "\n",
    "covid.pregnancy.value_counts()"
   ]
  },
  {
   "cell_type": "code",
   "execution_count": 12,
   "metadata": {},
   "outputs": [
    {
     "output_type": "stream",
     "name": "stdout",
     "text": [
      "97    290925\n2      44679\n1       7000\n99        91\nName: intubed, dtype: int64\n97    290925\n2      44955\n1       6724\n99        91\nName: icu, dtype: int64\n"
     ]
    },
    {
     "output_type": "execute_result",
     "data": {
      "text/plain": [
       "1    290925\n",
       "2     51770\n",
       "Name: patient_type, dtype: int64"
      ]
     },
     "metadata": {},
     "execution_count": 12
    }
   ],
   "source": [
    "print(covid.intubed.value_counts())\n",
    "\n",
    "print(covid.icu.value_counts())\n",
    "\n",
    "covid.patient_type.value_counts()"
   ]
  },
  {
   "source": [
    "In this case, there are 290925 patients hospitalized, so the 97 values for intubed and icu are probably due to that. To prevent wrongfully dropping these values, I'll change very 97 to null."
   ],
   "cell_type": "markdown",
   "metadata": {}
  },
  {
   "cell_type": "code",
   "execution_count": 13,
   "metadata": {},
   "outputs": [
    {
     "output_type": "execute_result",
     "data": {
      "text/plain": [
       "0.0    44955\n",
       "1.0     6724\n",
       "Name: icu, dtype: int64"
      ]
     },
     "metadata": {},
     "execution_count": 13
    }
   ],
   "source": [
    "# icu\n",
    "covid = covid.loc[(covid.icu == 1) | (covid.icu == 2) | (covid.icu == 97)]\n",
    "\n",
    "covid.icu.replace({2: 0}, inplace=True)\n",
    "covid.icu.replace({97: np.nan}, inplace=True)\n",
    "\n",
    "covid.icu.value_counts()"
   ]
  },
  {
   "cell_type": "code",
   "execution_count": 14,
   "metadata": {},
   "outputs": [
    {
     "output_type": "execute_result",
     "data": {
      "text/plain": [
       "0.0    44679\n",
       "1.0     7000\n",
       "Name: intubed, dtype: int64"
      ]
     },
     "metadata": {},
     "execution_count": 14
    }
   ],
   "source": [
    "# intubed\n",
    "covid = covid.loc[(covid.intubed == 1) | (covid.intubed == 2) | (covid.intubed == 97)]\n",
    "\n",
    "covid.intubed.replace({2: 0}, inplace=True)\n",
    "covid.intubed.replace({97: np.nan}, inplace=True)\n",
    "\n",
    "covid.intubed.value_counts()"
   ]
  },
  {
   "cell_type": "code",
   "execution_count": 15,
   "metadata": {},
   "outputs": [
    {
     "output_type": "execute_result",
     "data": {
      "text/plain": [
       "(342604, 19)"
      ]
     },
     "metadata": {},
     "execution_count": 15
    }
   ],
   "source": [
    "covid.shape"
   ]
  },
  {
   "cell_type": "code",
   "execution_count": 16,
   "metadata": {},
   "outputs": [],
   "source": [
    "# fixing the binary format\n",
    "\n",
    "# for column in covid[columns]:\n",
    "#     if column != 'age':\n",
    "#         covid[column] = covid[column].apply(lambda x: x if x == 1 else 0)\n",
    "#         covid = covid.loc[covid[column]]\n",
    "#         print(covid.column.unique())\n",
    "\n",
    "# covid.shape"
   ]
  },
  {
   "cell_type": "code",
   "execution_count": 17,
   "metadata": {},
   "outputs": [
    {
     "output_type": "execute_result",
     "data": {
      "text/plain": [
       "    sex  patient_type  intubed  pneumonia  age  pregnancy  diabetes  copd  \\\n",
       "0     2             1      NaN          2   27          2         2     2   \n",
       "7     1             1      NaN          2   56          2         2     2   \n",
       "13    1             1      NaN          2   34          2         2     2   \n",
       "15    1             1      NaN          2   34          2         2     2   \n",
       "16    1             1      NaN          2   49          2         1     2   \n",
       "\n",
       "    asthma  inmsupr  hypertension  other_disease  cardiovascular  obesity  \\\n",
       "0        2        2             2              2               2        2   \n",
       "7        2        2             1              2               2        2   \n",
       "13       2        2             2              2               2        2   \n",
       "15       2        2             2              2               2        2   \n",
       "16       2        2             2              2               2        2   \n",
       "\n",
       "    renal_chronic  tobacco  contact_other_covid  covid_res  icu  \n",
       "0               2        2                    2          1  NaN  \n",
       "7               1        1                    1          1  NaN  \n",
       "13              2        2                    1          1  NaN  \n",
       "15              2        1                    2          1  NaN  \n",
       "16              2        2                    1          1  NaN  "
      ],
      "text/html": "<div>\n<style scoped>\n    .dataframe tbody tr th:only-of-type {\n        vertical-align: middle;\n    }\n\n    .dataframe tbody tr th {\n        vertical-align: top;\n    }\n\n    .dataframe thead th {\n        text-align: right;\n    }\n</style>\n<table border=\"1\" class=\"dataframe\">\n  <thead>\n    <tr style=\"text-align: right;\">\n      <th></th>\n      <th>sex</th>\n      <th>patient_type</th>\n      <th>intubed</th>\n      <th>pneumonia</th>\n      <th>age</th>\n      <th>pregnancy</th>\n      <th>diabetes</th>\n      <th>copd</th>\n      <th>asthma</th>\n      <th>inmsupr</th>\n      <th>hypertension</th>\n      <th>other_disease</th>\n      <th>cardiovascular</th>\n      <th>obesity</th>\n      <th>renal_chronic</th>\n      <th>tobacco</th>\n      <th>contact_other_covid</th>\n      <th>covid_res</th>\n      <th>icu</th>\n    </tr>\n  </thead>\n  <tbody>\n    <tr>\n      <th>0</th>\n      <td>2</td>\n      <td>1</td>\n      <td>NaN</td>\n      <td>2</td>\n      <td>27</td>\n      <td>2</td>\n      <td>2</td>\n      <td>2</td>\n      <td>2</td>\n      <td>2</td>\n      <td>2</td>\n      <td>2</td>\n      <td>2</td>\n      <td>2</td>\n      <td>2</td>\n      <td>2</td>\n      <td>2</td>\n      <td>1</td>\n      <td>NaN</td>\n    </tr>\n    <tr>\n      <th>7</th>\n      <td>1</td>\n      <td>1</td>\n      <td>NaN</td>\n      <td>2</td>\n      <td>56</td>\n      <td>2</td>\n      <td>2</td>\n      <td>2</td>\n      <td>2</td>\n      <td>2</td>\n      <td>1</td>\n      <td>2</td>\n      <td>2</td>\n      <td>2</td>\n      <td>1</td>\n      <td>1</td>\n      <td>1</td>\n      <td>1</td>\n      <td>NaN</td>\n    </tr>\n    <tr>\n      <th>13</th>\n      <td>1</td>\n      <td>1</td>\n      <td>NaN</td>\n      <td>2</td>\n      <td>34</td>\n      <td>2</td>\n      <td>2</td>\n      <td>2</td>\n      <td>2</td>\n      <td>2</td>\n      <td>2</td>\n      <td>2</td>\n      <td>2</td>\n      <td>2</td>\n      <td>2</td>\n      <td>2</td>\n      <td>1</td>\n      <td>1</td>\n      <td>NaN</td>\n    </tr>\n    <tr>\n      <th>15</th>\n      <td>1</td>\n      <td>1</td>\n      <td>NaN</td>\n      <td>2</td>\n      <td>34</td>\n      <td>2</td>\n      <td>2</td>\n      <td>2</td>\n      <td>2</td>\n      <td>2</td>\n      <td>2</td>\n      <td>2</td>\n      <td>2</td>\n      <td>2</td>\n      <td>2</td>\n      <td>1</td>\n      <td>2</td>\n      <td>1</td>\n      <td>NaN</td>\n    </tr>\n    <tr>\n      <th>16</th>\n      <td>1</td>\n      <td>1</td>\n      <td>NaN</td>\n      <td>2</td>\n      <td>49</td>\n      <td>2</td>\n      <td>1</td>\n      <td>2</td>\n      <td>2</td>\n      <td>2</td>\n      <td>2</td>\n      <td>2</td>\n      <td>2</td>\n      <td>2</td>\n      <td>2</td>\n      <td>2</td>\n      <td>1</td>\n      <td>1</td>\n      <td>NaN</td>\n    </tr>\n  </tbody>\n</table>\n</div>"
     },
     "metadata": {},
     "execution_count": 17
    }
   ],
   "source": [
    "covid.head()"
   ]
  },
  {
   "source": [
    "## Data Cleanup: Fixing the Binary Numbers"
   ],
   "cell_type": "markdown",
   "metadata": {}
  },
  {
   "cell_type": "code",
   "execution_count": 18,
   "metadata": {},
   "outputs": [],
   "source": [
    "# sex\n",
    "covid.sex = covid.sex.apply(lambda x: x if x == 1 else 0)\n",
    "# patient_type\n",
    "covid.patient_type = covid.patient_type.apply(lambda x: x if x == 1 else 0)\n",
    "# intubed\n",
    "# covid.intubed = covid.intubed.apply(lambda x: x if x == 1 else 0)\n",
    "# pneumonia\n",
    "covid.pneumonia = covid.pneumonia.apply(lambda x: x if x == 1 else 0)\n",
    "# pregnancy\n",
    "covid.pregnancy = covid.pregnancy.apply(lambda x: x if x == 1 else 0)\n",
    "# diabetes\n",
    "covid.diabetes = covid.diabetes.apply(lambda x: x if x == 1 else 0)\n",
    "# copd\n",
    "covid.copd = covid.copd.apply(lambda x: x if x == 1 else 0)\n",
    "# asthma\n",
    "covid.asthma = covid.asthma.apply(lambda x: x if x == 1 else 0)\n",
    "# inmsupr\n",
    "covid.inmsupr = covid.inmsupr.apply(lambda x: x if x == 1 else 0)\n",
    "# hypertension\n",
    "covid.hypertension = covid.hypertension.apply(lambda x: x if x == 1 else 0)\n",
    "# other_disease\n",
    "covid.other_disease = covid.other_disease.apply(lambda x: x if x == 1 else 0)\n",
    "# cardiovascular\n",
    "covid.cardiovascular = covid.cardiovascular.apply(lambda x: x if x == 1 else 0)\n",
    "# obesity\n",
    "covid.obesity = covid.obesity.apply(lambda x: x if x == 1 else 0)\n",
    "# renal_chronic\n",
    "covid.renal_chronic = covid.renal_chronic.apply(lambda x: x if x == 1 else 0)\n",
    "# tobacco\n",
    "covid.tobacco = covid.tobacco.apply(lambda x: x if x == 1 else 0)\n",
    "# contact_other_covid\n",
    "covid.contact_other_covid = covid.contact_other_covid.apply(lambda x: x if x == 1 else 0)\n",
    "# covid_res\n",
    "covid.covid_res = covid.covid_res.apply(lambda x: x if x == 1 else 0)\n",
    "# icu\n",
    "# covid.icu = covid.icu.apply(lambda x: x if x == 1 else 0)"
   ]
  },
  {
   "cell_type": "code",
   "execution_count": 19,
   "metadata": {},
   "outputs": [
    {
     "output_type": "execute_result",
     "data": {
      "text/plain": [
       "    sex  patient_type  intubed  pneumonia  age  pregnancy  diabetes  copd  \\\n",
       "0     0             1      NaN          0   27          0         0     0   \n",
       "7     1             1      NaN          0   56          0         0     0   \n",
       "13    1             1      NaN          0   34          0         0     0   \n",
       "15    1             1      NaN          0   34          0         0     0   \n",
       "16    1             1      NaN          0   49          0         1     0   \n",
       "\n",
       "    asthma  inmsupr  hypertension  other_disease  cardiovascular  obesity  \\\n",
       "0        0        0             0              0               0        0   \n",
       "7        0        0             1              0               0        0   \n",
       "13       0        0             0              0               0        0   \n",
       "15       0        0             0              0               0        0   \n",
       "16       0        0             0              0               0        0   \n",
       "\n",
       "    renal_chronic  tobacco  contact_other_covid  covid_res  icu  \n",
       "0               0        0                    0          1  NaN  \n",
       "7               1        1                    1          1  NaN  \n",
       "13              0        0                    1          1  NaN  \n",
       "15              0        1                    0          1  NaN  \n",
       "16              0        0                    1          1  NaN  "
      ],
      "text/html": "<div>\n<style scoped>\n    .dataframe tbody tr th:only-of-type {\n        vertical-align: middle;\n    }\n\n    .dataframe tbody tr th {\n        vertical-align: top;\n    }\n\n    .dataframe thead th {\n        text-align: right;\n    }\n</style>\n<table border=\"1\" class=\"dataframe\">\n  <thead>\n    <tr style=\"text-align: right;\">\n      <th></th>\n      <th>sex</th>\n      <th>patient_type</th>\n      <th>intubed</th>\n      <th>pneumonia</th>\n      <th>age</th>\n      <th>pregnancy</th>\n      <th>diabetes</th>\n      <th>copd</th>\n      <th>asthma</th>\n      <th>inmsupr</th>\n      <th>hypertension</th>\n      <th>other_disease</th>\n      <th>cardiovascular</th>\n      <th>obesity</th>\n      <th>renal_chronic</th>\n      <th>tobacco</th>\n      <th>contact_other_covid</th>\n      <th>covid_res</th>\n      <th>icu</th>\n    </tr>\n  </thead>\n  <tbody>\n    <tr>\n      <th>0</th>\n      <td>0</td>\n      <td>1</td>\n      <td>NaN</td>\n      <td>0</td>\n      <td>27</td>\n      <td>0</td>\n      <td>0</td>\n      <td>0</td>\n      <td>0</td>\n      <td>0</td>\n      <td>0</td>\n      <td>0</td>\n      <td>0</td>\n      <td>0</td>\n      <td>0</td>\n      <td>0</td>\n      <td>0</td>\n      <td>1</td>\n      <td>NaN</td>\n    </tr>\n    <tr>\n      <th>7</th>\n      <td>1</td>\n      <td>1</td>\n      <td>NaN</td>\n      <td>0</td>\n      <td>56</td>\n      <td>0</td>\n      <td>0</td>\n      <td>0</td>\n      <td>0</td>\n      <td>0</td>\n      <td>1</td>\n      <td>0</td>\n      <td>0</td>\n      <td>0</td>\n      <td>1</td>\n      <td>1</td>\n      <td>1</td>\n      <td>1</td>\n      <td>NaN</td>\n    </tr>\n    <tr>\n      <th>13</th>\n      <td>1</td>\n      <td>1</td>\n      <td>NaN</td>\n      <td>0</td>\n      <td>34</td>\n      <td>0</td>\n      <td>0</td>\n      <td>0</td>\n      <td>0</td>\n      <td>0</td>\n      <td>0</td>\n      <td>0</td>\n      <td>0</td>\n      <td>0</td>\n      <td>0</td>\n      <td>0</td>\n      <td>1</td>\n      <td>1</td>\n      <td>NaN</td>\n    </tr>\n    <tr>\n      <th>15</th>\n      <td>1</td>\n      <td>1</td>\n      <td>NaN</td>\n      <td>0</td>\n      <td>34</td>\n      <td>0</td>\n      <td>0</td>\n      <td>0</td>\n      <td>0</td>\n      <td>0</td>\n      <td>0</td>\n      <td>0</td>\n      <td>0</td>\n      <td>0</td>\n      <td>0</td>\n      <td>1</td>\n      <td>0</td>\n      <td>1</td>\n      <td>NaN</td>\n    </tr>\n    <tr>\n      <th>16</th>\n      <td>1</td>\n      <td>1</td>\n      <td>NaN</td>\n      <td>0</td>\n      <td>49</td>\n      <td>0</td>\n      <td>1</td>\n      <td>0</td>\n      <td>0</td>\n      <td>0</td>\n      <td>0</td>\n      <td>0</td>\n      <td>0</td>\n      <td>0</td>\n      <td>0</td>\n      <td>0</td>\n      <td>1</td>\n      <td>1</td>\n      <td>NaN</td>\n    </tr>\n  </tbody>\n</table>\n</div>"
     },
     "metadata": {},
     "execution_count": 19
    }
   ],
   "source": [
    "covid.head()"
   ]
  },
  {
   "source": [
    "## Final Touches"
   ],
   "cell_type": "markdown",
   "metadata": {}
  },
  {
   "cell_type": "code",
   "execution_count": 20,
   "metadata": {},
   "outputs": [
    {
     "output_type": "execute_result",
     "data": {
      "text/plain": [
       "sex                         0\n",
       "patient_type                0\n",
       "intubed                290925\n",
       "pneumonia                   0\n",
       "age                         0\n",
       "pregnancy                   0\n",
       "diabetes                    0\n",
       "copd                        0\n",
       "asthma                      0\n",
       "inmsupr                     0\n",
       "hypertension                0\n",
       "other_disease               0\n",
       "cardiovascular              0\n",
       "obesity                     0\n",
       "renal_chronic               0\n",
       "tobacco                     0\n",
       "contact_other_covid         0\n",
       "covid_res                   0\n",
       "icu                    290925\n",
       "dtype: int64"
      ]
     },
     "metadata": {},
     "execution_count": 20
    }
   ],
   "source": [
    "covid.isnull().sum()"
   ]
  },
  {
   "cell_type": "code",
   "execution_count": 21,
   "metadata": {},
   "outputs": [
    {
     "output_type": "execute_result",
     "data": {
      "text/plain": [
       "   sex  patient_type  intubed  pneumonia  age  pregnancy  diabetes  copd  \\\n",
       "0    0             1      NaN          0   27          0         0     0   \n",
       "1    1             1      NaN          0   56          0         0     0   \n",
       "2    1             1      NaN          0   34          0         0     0   \n",
       "3    1             1      NaN          0   34          0         0     0   \n",
       "4    1             1      NaN          0   49          0         1     0   \n",
       "\n",
       "   asthma  inmsupr  hypertension  other_disease  cardiovascular  obesity  \\\n",
       "0       0        0             0              0               0        0   \n",
       "1       0        0             1              0               0        0   \n",
       "2       0        0             0              0               0        0   \n",
       "3       0        0             0              0               0        0   \n",
       "4       0        0             0              0               0        0   \n",
       "\n",
       "   renal_chronic  tobacco  contact_other_covid  covid_res  icu  \n",
       "0              0        0                    0          1  NaN  \n",
       "1              1        1                    1          1  NaN  \n",
       "2              0        0                    1          1  NaN  \n",
       "3              0        1                    0          1  NaN  \n",
       "4              0        0                    1          1  NaN  "
      ],
      "text/html": "<div>\n<style scoped>\n    .dataframe tbody tr th:only-of-type {\n        vertical-align: middle;\n    }\n\n    .dataframe tbody tr th {\n        vertical-align: top;\n    }\n\n    .dataframe thead th {\n        text-align: right;\n    }\n</style>\n<table border=\"1\" class=\"dataframe\">\n  <thead>\n    <tr style=\"text-align: right;\">\n      <th></th>\n      <th>sex</th>\n      <th>patient_type</th>\n      <th>intubed</th>\n      <th>pneumonia</th>\n      <th>age</th>\n      <th>pregnancy</th>\n      <th>diabetes</th>\n      <th>copd</th>\n      <th>asthma</th>\n      <th>inmsupr</th>\n      <th>hypertension</th>\n      <th>other_disease</th>\n      <th>cardiovascular</th>\n      <th>obesity</th>\n      <th>renal_chronic</th>\n      <th>tobacco</th>\n      <th>contact_other_covid</th>\n      <th>covid_res</th>\n      <th>icu</th>\n    </tr>\n  </thead>\n  <tbody>\n    <tr>\n      <th>0</th>\n      <td>0</td>\n      <td>1</td>\n      <td>NaN</td>\n      <td>0</td>\n      <td>27</td>\n      <td>0</td>\n      <td>0</td>\n      <td>0</td>\n      <td>0</td>\n      <td>0</td>\n      <td>0</td>\n      <td>0</td>\n      <td>0</td>\n      <td>0</td>\n      <td>0</td>\n      <td>0</td>\n      <td>0</td>\n      <td>1</td>\n      <td>NaN</td>\n    </tr>\n    <tr>\n      <th>1</th>\n      <td>1</td>\n      <td>1</td>\n      <td>NaN</td>\n      <td>0</td>\n      <td>56</td>\n      <td>0</td>\n      <td>0</td>\n      <td>0</td>\n      <td>0</td>\n      <td>0</td>\n      <td>1</td>\n      <td>0</td>\n      <td>0</td>\n      <td>0</td>\n      <td>1</td>\n      <td>1</td>\n      <td>1</td>\n      <td>1</td>\n      <td>NaN</td>\n    </tr>\n    <tr>\n      <th>2</th>\n      <td>1</td>\n      <td>1</td>\n      <td>NaN</td>\n      <td>0</td>\n      <td>34</td>\n      <td>0</td>\n      <td>0</td>\n      <td>0</td>\n      <td>0</td>\n      <td>0</td>\n      <td>0</td>\n      <td>0</td>\n      <td>0</td>\n      <td>0</td>\n      <td>0</td>\n      <td>0</td>\n      <td>1</td>\n      <td>1</td>\n      <td>NaN</td>\n    </tr>\n    <tr>\n      <th>3</th>\n      <td>1</td>\n      <td>1</td>\n      <td>NaN</td>\n      <td>0</td>\n      <td>34</td>\n      <td>0</td>\n      <td>0</td>\n      <td>0</td>\n      <td>0</td>\n      <td>0</td>\n      <td>0</td>\n      <td>0</td>\n      <td>0</td>\n      <td>0</td>\n      <td>0</td>\n      <td>1</td>\n      <td>0</td>\n      <td>1</td>\n      <td>NaN</td>\n    </tr>\n    <tr>\n      <th>4</th>\n      <td>1</td>\n      <td>1</td>\n      <td>NaN</td>\n      <td>0</td>\n      <td>49</td>\n      <td>0</td>\n      <td>1</td>\n      <td>0</td>\n      <td>0</td>\n      <td>0</td>\n      <td>0</td>\n      <td>0</td>\n      <td>0</td>\n      <td>0</td>\n      <td>0</td>\n      <td>0</td>\n      <td>1</td>\n      <td>1</td>\n      <td>NaN</td>\n    </tr>\n  </tbody>\n</table>\n</div>"
     },
     "metadata": {},
     "execution_count": 21
    }
   ],
   "source": [
    "covid.reset_index(drop=True, inplace=True)\n",
    "covid.head()"
   ]
  },
  {
   "cell_type": "code",
   "execution_count": 22,
   "metadata": {},
   "outputs": [],
   "source": [
    "covid.to_csv('clean_covid.csv')"
   ]
  }
 ]
}